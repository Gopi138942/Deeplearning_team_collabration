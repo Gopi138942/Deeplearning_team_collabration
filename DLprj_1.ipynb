{
  "nbformat": 4,
  "nbformat_minor": 0,
  "metadata": {
    "colab": {
      "provenance": [],
      "authorship_tag": "ABX9TyNJgyt7dy6f9SSR+A8XXXsj",
      "include_colab_link": true
    },
    "kernelspec": {
      "name": "python3",
      "display_name": "Python 3"
    },
    "language_info": {
      "name": "python"
    }
  },
  "cells": [
    {
      "cell_type": "markdown",
      "metadata": {
        "id": "view-in-github",
        "colab_type": "text"
      },
      "source": [
        "<a href=\"https://colab.research.google.com/github/Gopi138942/Deeplearning_team_collabration/blob/main/DLprj_1.ipynb\" target=\"_parent\"><img src=\"https://colab.research.google.com/assets/colab-badge.svg\" alt=\"Open In Colab\"/></a>"
      ]
    },
    {
      "cell_type": "code",
      "source": [
        "import numpy as np\n",
        "import matplotlib.pyplot as plt\n",
        "%matplotlib inline\n",
        "import torch\n",
        "import torch.nn as nn\n",
        "import torch.nn.functional as F\n",
        "import torch.optim as optim\n",
        "from torchvision import datasets, transforms\n",
        "from torch.utils.data import DataLoader"
      ],
      "metadata": {
        "id": "F8PlBBNwlOch"
      },
      "execution_count": 11,
      "outputs": []
    },
    {
      "cell_type": "code",
      "source": [
        "device = torch.device('cuda' if torch.cuda.is_available() else 'cpu')"
      ],
      "metadata": {
        "id": "b5ClBI64mhZY"
      },
      "execution_count": 12,
      "outputs": []
    },
    {
      "cell_type": "code",
      "source": [
        "class ArcFaceLoss(nn.Module):\n",
        "  def __init__(self, s=30, m = 0.5, num_classes= 10, embedding_size = 512):\n",
        "    super(ArcFaceLoss, self).__init__()\n",
        "    self.s = s # Scaling\n",
        "    self.m = m # margin\n",
        "    self.w = nn.Parameter(torch.FloatTensor(num_classes, embedding_size))#define weight matrix\n",
        "    nn.init.xavier_uniform_(self.w)\n",
        "\n",
        "  def forward(self, embeddings, labels):\n",
        "        norm_emb = F.normalize(embeddings)\n",
        "        norm_W = F.normalize(self.w, dim=1)#access the weight matrix as self.w\n",
        "        #transpose norm_W to align dimensions for matrix multiplication\n",
        "        cos_theta = torch.mm(norm_emb, norm_W.t()).clamp(-1, 1)#.t() transpose the matrix from shape(10,512) to (512,10)\n",
        "        target_logit = torch.acos(cos_theta[torch.arange(len(cos_theta)), labels]) + self.m\n",
        "        cos_theta[torch.arange(len(cos_theta)), labels] = torch.cos(target_logit)\n",
        "        return F.cross_entropy(self.s * cos_theta, labels)\n",
        "\n"
      ],
      "metadata": {
        "id": "I_vPra9FnKlj"
      },
      "execution_count": 13,
      "outputs": []
    },
    {
      "cell_type": "code",
      "source": [
        "# Unified Data Loading Function\n",
        "def get_dataloader(dataset_name):\n",
        "    transform = transforms.Compose([\n",
        "    transforms.ToTensor(),\n",
        "    transforms.Normalize((0.5,), (0.5,)) if dataset_name == 'MNIST' else transforms.Normalize((0.5, 0.5, 0.5), (0.5, 0.5, 0.5))\n",
        "    ])\n",
        "    dataset_class = datasets.MNIST if dataset_name == 'MNIST' else datasets.CIFAR10\n",
        "    train_dataset = dataset_class(root='./data', train=True, download=True, transform=transform)\n",
        "    test_dataset = dataset_class(root='./data', train=False, download=True, transform=transform)\n",
        "\n",
        "    train_loader = DataLoader(dataset=train_dataset, batch_size=64, shuffle=True)\n",
        "    test_loader = DataLoader(dataset=test_dataset, batch_size=1000, shuffle=False)\n",
        "    return train_loader, test_loader\n"
      ],
      "metadata": {
        "id": "j-pv7AiXwrq8"
      },
      "execution_count": 60,
      "outputs": []
    },
    {
      "cell_type": "code",
      "source": [
        "class UnifiedCNN(nn.Module):\n",
        "    def __init__(self, input_channels, embedding_size=512):\n",
        "        super(UnifiedCNN, self).__init__()\n",
        "        self.conv1 = nn.Conv2d(input_channels, 32, kernel_size=3, stride=1, padding=1)\n",
        "        self.conv2 = nn.Conv2d(32, 64, kernel_size=3, stride=1, padding=1)\n",
        "        self.pool = nn.MaxPool2d(2, 2)\n",
        "        output_size = (28 if input_channels == 1 else 32) //2  # Handle MNIST (28x28) & CIFAR-10 (32x32)\n",
        "        self.fc1 = nn.Linear(output_size * output_size * 64, embedding_size)\n",
        "\n",
        "    def forward(self, x):\n",
        "        x = self.pool(F.relu(self.conv2(F.relu(self.conv1(x))))).view(x.size(0), -1)#Dynamically calculate the size and shape\n",
        "        return self.fc1(x)"
      ],
      "metadata": {
        "id": "tVD8l1QAytqh"
      },
      "execution_count": 61,
      "outputs": []
    },
    {
      "cell_type": "code",
      "source": [
        "# Training Function\n",
        "def train_model(model, loss_fn, optimizer, train_loader, epochs=10):\n",
        "    model.train()\n",
        "    train_losses = []\n",
        "    for epoch in range(epochs):\n",
        "        running_loss = 0.0\n",
        "        epoch_loss = 0.0\n",
        "        for images, labels in train_loader:\n",
        "            # Move images and labels to the selected device\n",
        "            images, labels = images.to(device), labels.to(device)\n",
        "\n",
        "            optimizer.zero_grad()\n",
        "            embeddings = model(images)\n",
        "            loss = loss_fn(embeddings, labels)\n",
        "\n",
        "            loss.backward()\n",
        "            optimizer.step()\n",
        "\n",
        "            epoch_loss += loss.item()\n",
        "        avg_epoch_loss = epoch_loss / len(train_loader)\n",
        "        train_losses.append(avg_epoch_loss)\n",
        "\n",
        "        print(f\"Epoch {epoch+1}/{epochs}, Loss: {avg_epoch_loss}\")\n",
        "    return train_losses\n",
        "    print(\"Training finished\")\n",
        "\n"
      ],
      "metadata": {
        "id": "BA-bkD2f192A"
      },
      "execution_count": 62,
      "outputs": []
    },
    {
      "cell_type": "code",
      "source": [
        "\"\"\"def test_model(model, loss_fn, test_loader):\n",
        "    model.eval()  # Set the model to evaluation mode (no gradient calculation)\n",
        "    correct = 0\n",
        "    total = 0\n",
        "    test_loss = 0.0\n",
        "    with torch.no_grad():  # Disable gradient calculation for testing\n",
        "        for images, labels in test_loader:\n",
        "            images, labels = images.to(device), labels.to(device)\n",
        "            embeddings = model(images)\n",
        "\n",
        "            # Cosine similarity between embeddings and class weights (from the ArcFace layer)\n",
        "            outputs = torch.mm(F.normalize(embeddings), F.normalize(loss_fn.w, dim=1).t())  # Cosine similarity\n",
        "            _, predicted = torch.max(outputs, 1)  # Get the predicted class\n",
        "\n",
        "            total += labels.size(0)\n",
        "            correct += (predicted == labels).sum().item()\n",
        "            loss = loss_fn(embeddings, labels)\n",
        "            test_loss += loss.item()\n",
        "\n",
        "    avg_test_loss = test_loss / len(test_loader)\n",
        "    accuracy = 100 * correct / total\n",
        "    print(f\"Test Accuracy: {accuracy:.2f}%\")\n",
        "    print(f\"Test Loss: {avg_test_loss}\")\n",
        "    return avg_test_loss, accuracy\"\"\""
      ],
      "metadata": {
        "id": "77oZ17eH3UUG"
      },
      "execution_count": 21,
      "outputs": []
    },
    {
      "cell_type": "code",
      "source": [
        "def test_model_mnist(model, loss_fn, test_loader):\n",
        "    model.eval()  # Set the model to evaluation mode\n",
        "    correct, total = 0, 0\n",
        "\n",
        "    with torch.no_grad():  # Disable gradient calculation for testing\n",
        "        for images, labels in test_loader:\n",
        "            images, labels = images.to(device), labels.to(device)\n",
        "\n",
        "            # Forward pass\n",
        "            embeddings = model(images)\n",
        "            normalized_emb = F.normalize(embeddings)  # Normalize embeddings once\n",
        "\n",
        "            # Compute cosine similarity using ArcFace class weights\n",
        "            normalized_weights = F.normalize(loss_fn.w, dim=1)  # Normalize only once\n",
        "            outputs = normalized_emb @ normalized_weights.t()  # Efficient matrix multiplication\n",
        "\n",
        "            # Prediction and loss computation\n",
        "            predicted = outputs.argmax(dim=1)\n",
        "            correct += (predicted == labels).sum().item()\n",
        "            total += labels.size(0)\n",
        "\n",
        "    accuracy = 100 * correct / total\n",
        "    print(f\"Test Accuracy: {accuracy:.2f}%\")\n",
        "    return accuracy\n"
      ],
      "metadata": {
        "id": "q0LMZ15vGm4D"
      },
      "execution_count": 36,
      "outputs": []
    },
    {
      "cell_type": "code",
      "source": [
        "def test_model_cifar(model, loss_fn, test_loader):\n",
        "    model.eval()  # Set the model to evaluation mode\n",
        "    correct, total, test_loss = 0, 0, 0.0\n",
        "\n",
        "    with torch.no_grad():  # Disable gradient calculation for testing\n",
        "        for images, labels in test_loader:\n",
        "            images, labels = images.to(device), labels.to(device)\n",
        "\n",
        "            # Forward pass\n",
        "            embeddings = model(images)\n",
        "            \"\"\"\"normalized_emb = F.normalize(embeddings)  # Normalize embeddings once\n",
        "\n",
        "            # Compute cosine similarity using ArcFace class weights\n",
        "            normalized_weights = F.normalize(loss_fn.w, dim=1)  # Normalize only once\n",
        "            outputs = normalized_emb @ normalized_weights.t()  # Efficient matrix multiplication\n",
        "\"\"\"\n",
        "            # Prediction and loss computation\n",
        "           # predicted = outputs.argmax(dim=1)\n",
        "\n",
        "            loss = loss_fn(embeddings, labels)  # Get only the loss value\n",
        "            test_loss += loss.item()\n",
        "\n",
        "    avg_test_loss = test_loss / len(test_loader)\n",
        "\n",
        "    print(f\"Test Loss: {avg_test_loss:.4f}\")\n",
        "\n",
        "    return avg_test_loss\n"
      ],
      "metadata": {
        "id": "YJED9ffrIIeh"
      },
      "execution_count": 37,
      "outputs": []
    },
    {
      "cell_type": "code",
      "source": [
        "def plot_loss(train_loss):\n",
        "    plt.plot(train_loss, label=\"Training Loss\")\n",
        "    plt.xlabel(\"Epochs\")\n",
        "    plt.ylabel(\"Loss\")\n",
        "    plt.legend()\n",
        "    plt.show()"
      ],
      "metadata": {
        "id": "7_GGrfEHxn3Y"
      },
      "execution_count": 18,
      "outputs": []
    },
    {
      "cell_type": "code",
      "source": [
        "# Train & Test MNIST and CIFAR-10 Simultaneously\n",
        "for dataset_name in ['MNIST', 'CIFAR10']:\n",
        "    train_loader, test_loader = get_dataloader(dataset_name)\n",
        "    model = UnifiedCNN(input_channels=1 if dataset_name == 'MNIST' else 3).to(device)\n",
        "    arcface_loss = ArcFaceLoss(num_classes=10).to(device)\n",
        "    optimizer = optim.Adam(model.parameters(), lr=0.001)\n",
        "\n",
        "    print(f\"Training on {dataset_name}:\")\n",
        "    losses = train_model(model, arcface_loss, optimizer, train_loader)\n",
        "    plot_loss(losses)\n",
        "\n"
      ],
      "metadata": {
        "colab": {
          "base_uri": "https://localhost:8080/",
          "height": 1000
        },
        "id": "XR_T4pdp3t-E",
        "outputId": "9369320d-799a-42b1-8942-651d1034d0ef"
      },
      "execution_count": 63,
      "outputs": [
        {
          "output_type": "stream",
          "name": "stdout",
          "text": [
            "Training on MNIST:\n",
            "Epoch 1/10, Loss: 1.687279932506716\n",
            "Epoch 2/10, Loss: 0.6185936122548892\n",
            "Epoch 3/10, Loss: 0.4602026236504798\n",
            "Epoch 4/10, Loss: 0.3698880391432219\n",
            "Epoch 5/10, Loss: 0.30876320234775645\n",
            "Epoch 6/10, Loss: 0.26807607746185874\n",
            "Epoch 7/10, Loss: 0.22851028975645038\n",
            "Epoch 8/10, Loss: 0.2021674380398731\n",
            "Epoch 9/10, Loss: 0.17406334909536916\n",
            "Epoch 10/10, Loss: 0.15672470574439226\n"
          ]
        },
        {
          "output_type": "display_data",
          "data": {
            "text/plain": [
              "<Figure size 640x480 with 1 Axes>"
            ],
            "image/png": "[encoded data removed]"
          },
          "metadata": {}
        },
        {
          "output_type": "stream",
          "name": "stdout",
          "text": [
            "Files already downloaded and verified\n",
            "Files already downloaded and verified\n",
            "Training on CIFAR10:\n",
            "Epoch 1/10, Loss: 13.88696843827777\n",
            "Epoch 2/10, Loss: 11.732839056293068\n",
            "Epoch 3/10, Loss: 10.578510669796058\n",
            "Epoch 4/10, Loss: 9.73386920138698\n",
            "Epoch 5/10, Loss: 8.935940649808215\n",
            "Epoch 6/10, Loss: 8.25195174326982\n",
            "Epoch 7/10, Loss: 7.743921978089511\n",
            "Epoch 8/10, Loss: 7.307683804151043\n",
            "Epoch 9/10, Loss: 6.9453962019947175\n",
            "Epoch 10/10, Loss: 6.638857969237716\n"
          ]
        },
        {
          "output_type": "display_data",
          "data": {
            "text/plain": [
              "<Figure size 640x480 with 1 Axes>"
            ],
            "image/png": "[encoded data removed]"
          },
          "metadata": {}
        }
      ]
    },
    {
      "cell_type": "code",
      "source": [
        "# Train & Test MNIST and CIFAR-10 Simultaneously\n",
        "dataset_names = ['MNIST', 'CIFAR10']\n",
        "\n",
        "for dataset_name in dataset_names:\n",
        "    train_loader, test_loader = get_dataloader(dataset_name)\n",
        "    model = UnifiedCNN(input_channels=1 if dataset_name == 'MNIST' else 3).to(device)\n",
        "    arcface_loss = ArcFaceLoss(num_classes=10).to(device)\n",
        "    optimizer = optim.Adam(model.parameters(), lr=0.001)\n",
        "\n",
        "    if dataset_name == 'MNIST':\n",
        "      print(f\"Testing on {dataset_name}:\")\n",
        "      test_model_mnist(model, arcface_loss, test_loader)\n",
        "    else:\n",
        "      print(f\"Testing on {dataset_name}:\")\n",
        "      test_model_cifar(model, arcface_loss, test_loader)\n",
        "\n",
        "\n",
        ""
      ],
      "metadata": {
        "colab": {
          "base_uri": "https://localhost:8080/"
        },
        "id": "5G66lYca_b6z",
        "outputId": "72e0d47d-4fb6-439f-f8b9-4b35196f6af7"
      },
      "execution_count": 64,
      "outputs": [
        {
          "output_type": "stream",
          "name": "stdout",
          "text": [
            "Testing on MNIST:\n",
            "Test Accuracy: 9.79%\n",
            "Files already downloaded and verified\n",
            "Files already downloaded and verified\n",
            "Testing on CIFAR10:\n",
            "Test Loss: 17.0999\n"
          ]
        }
      ]
    }
  ]
}