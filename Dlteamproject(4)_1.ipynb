{
  "nbformat": 4,
  "nbformat_minor": 0,
  "metadata": {
    "colab": {
      "provenance": [],
      "authorship_tag": "ABX9TyPs0JSdl+dKz1tDj2JKtdLO",
      "include_colab_link": true
    },
    "kernelspec": {
      "name": "python3",
      "display_name": "Python 3"
    },
    "language_info": {
      "name": "python"
    }
  },
  "cells": [
    {
      "cell_type": "markdown",
      "metadata": {
        "id": "view-in-github",
        "colab_type": "text"
      },
      "source": [
        "<a href=\"https://colab.research.google.com/github/Gopi138942/Deeplearning_team_collabration/blob/main/Dlteamproject(4)_1.ipynb\" target=\"_parent\"><img src=\"https://colab.research.google.com/assets/colab-badge.svg\" alt=\"Open In Colab\"/></a>"
      ]
    },
    {
      "cell_type": "code",
      "source": [
        "!pip install --upgrade torch"
      ],
      "metadata": {
        "colab": {
          "base_uri": "https://localhost:8080/"
        },
        "id": "VFEznGClP-Ap",
        "outputId": "60ccff49-5457-4970-8944-95756623ba02"
      },
      "execution_count": null,
      "outputs": [
        {
          "output_type": "stream",
          "name": "stdout",
          "text": [
            "Requirement already satisfied: torch in /usr/local/lib/python3.11/dist-packages (2.6.0+cu124)\n",
            "Requirement already satisfied: filelock in /usr/local/lib/python3.11/dist-packages (from torch) (3.17.0)\n",
            "Requirement already satisfied: typing-extensions>=4.10.0 in /usr/local/lib/python3.11/dist-packages (from torch) (4.12.2)\n",
            "Requirement already satisfied: networkx in /usr/local/lib/python3.11/dist-packages (from torch) (3.4.2)\n",
            "Requirement already satisfied: jinja2 in /usr/local/lib/python3.11/dist-packages (from torch) (3.1.6)\n",
            "Requirement already satisfied: fsspec in /usr/local/lib/python3.11/dist-packages (from torch) (2024.10.0)\n",
            "Collecting nvidia-cuda-nvrtc-cu12==12.4.127 (from torch)\n",
            "  Downloading nvidia_cuda_nvrtc_cu12-12.4.127-py3-none-manylinux2014_x86_64.whl.metadata (1.5 kB)\n",
            "Collecting nvidia-cuda-runtime-cu12==12.4.127 (from torch)\n",
            "  Downloading nvidia_cuda_runtime_cu12-12.4.127-py3-none-manylinux2014_x86_64.whl.metadata (1.5 kB)\n",
            "Collecting nvidia-cuda-cupti-cu12==12.4.127 (from torch)\n",
            "  Downloading nvidia_cuda_cupti_cu12-12.4.127-py3-none-manylinux2014_x86_64.whl.metadata (1.6 kB)\n",
            "Collecting nvidia-cudnn-cu12==9.1.0.70 (from torch)\n",
            "  Downloading nvidia_cudnn_cu12-9.1.0.70-py3-none-manylinux2014_x86_64.whl.metadata (1.6 kB)\n",
            "Collecting nvidia-cublas-cu12==12.4.5.8 (from torch)\n",
            "  Downloading nvidia_cublas_cu12-12.4.5.8-py3-none-manylinux2014_x86_64.whl.metadata (1.5 kB)\n",
            "Collecting nvidia-cufft-cu12==11.2.1.3 (from torch)\n",
            "  Downloading nvidia_cufft_cu12-11.2.1.3-py3-none-manylinux2014_x86_64.whl.metadata (1.5 kB)\n",
            "Collecting nvidia-curand-cu12==10.3.5.147 (from torch)\n",
            "  Downloading nvidia_curand_cu12-10.3.5.147-py3-none-manylinux2014_x86_64.whl.metadata (1.5 kB)\n",
            "Collecting nvidia-cusolver-cu12==11.6.1.9 (from torch)\n",
            "  Downloading nvidia_cusolver_cu12-11.6.1.9-py3-none-manylinux2014_x86_64.whl.metadata (1.6 kB)\n",
            "Collecting nvidia-cusparse-cu12==12.3.1.170 (from torch)\n",
            "  Downloading nvidia_cusparse_cu12-12.3.1.170-py3-none-manylinux2014_x86_64.whl.metadata (1.6 kB)\n",
            "Requirement already satisfied: nvidia-cusparselt-cu12==0.6.2 in /usr/local/lib/python3.11/dist-packages (from torch) (0.6.2)\n",
            "Requirement already satisfied: nvidia-nccl-cu12==2.21.5 in /usr/local/lib/python3.11/dist-packages (from torch) (2.21.5)\n",
            "Requirement already satisfied: nvidia-nvtx-cu12==12.4.127 in /usr/local/lib/python3.11/dist-packages (from torch) (12.4.127)\n",
            "Collecting nvidia-nvjitlink-cu12==12.4.127 (from torch)\n",
            "  Downloading nvidia_nvjitlink_cu12-12.4.127-py3-none-manylinux2014_x86_64.whl.metadata (1.5 kB)\n",
            "Requirement already satisfied: triton==3.2.0 in /usr/local/lib/python3.11/dist-packages (from torch) (3.2.0)\n",
            "Requirement already satisfied: sympy==1.13.1 in /usr/local/lib/python3.11/dist-packages (from torch) (1.13.1)\n",
            "Requirement already satisfied: mpmath<1.4,>=1.1.0 in /usr/local/lib/python3.11/dist-packages (from sympy==1.13.1->torch) (1.3.0)\n",
            "Requirement already satisfied: MarkupSafe>=2.0 in /usr/local/lib/python3.11/dist-packages (from jinja2->torch) (3.0.2)\n",
            "Downloading nvidia_cublas_cu12-12.4.5.8-py3-none-manylinux2014_x86_64.whl (363.4 MB)\n",
            "\u001b[2K   \u001b[90m━━━━━━━━━━━━━━━━━━━━━━━━━━━━━━━━━━━━━━━━\u001b[0m \u001b[32m363.4/363.4 MB\u001b[0m \u001b[31m2.2 MB/s\u001b[0m eta \u001b[36m0:00:00\u001b[0m\n",
            "\u001b[?25hDownloading nvidia_cuda_cupti_cu12-12.4.127-py3-none-manylinux2014_x86_64.whl (13.8 MB)\n",
            "\u001b[2K   \u001b[90m━━━━━━━━━━━━━━━━━━━━━━━━━━━━━━━━━━━━━━━━\u001b[0m \u001b[32m13.8/13.8 MB\u001b[0m \u001b[31m14.2 MB/s\u001b[0m eta \u001b[36m0:00:00\u001b[0m\n",
            "\u001b[?25hDownloading nvidia_cuda_nvrtc_cu12-12.4.127-py3-none-manylinux2014_x86_64.whl (24.6 MB)\n",
            "\u001b[2K   \u001b[90m━━━━━━━━━━━━━━━━━━━━━━━━━━━━━━━━━━━━━━━━\u001b[0m \u001b[32m24.6/24.6 MB\u001b[0m \u001b[31m13.8 MB/s\u001b[0m eta \u001b[36m0:00:00\u001b[0m\n",
            "\u001b[?25hDownloading nvidia_cuda_runtime_cu12-12.4.127-py3-none-manylinux2014_x86_64.whl (883 kB)\n",
            "\u001b[2K   \u001b[90m━━━━━━━━━━━━━━━━━━━━━━━━━━━━━━━━━━━━━━━━\u001b[0m \u001b[32m883.7/883.7 kB\u001b[0m \u001b[31m30.6 MB/s\u001b[0m eta \u001b[36m0:00:00\u001b[0m\n",
            "\u001b[?25hDownloading nvidia_cudnn_cu12-9.1.0.70-py3-none-manylinux2014_x86_64.whl (664.8 MB)\n",
            "\u001b[2K   \u001b[90m━━━━━━━━━━━━━━━━━━━━━━━━━━━━━━━━━━━━━━━━\u001b[0m \u001b[32m664.8/664.8 MB\u001b[0m \u001b[31m2.5 MB/s\u001b[0m eta \u001b[36m0:00:00\u001b[0m\n",
            "\u001b[?25hDownloading nvidia_cufft_cu12-11.2.1.3-py3-none-manylinux2014_x86_64.whl (211.5 MB)\n",
            "\u001b[2K   \u001b[90m━━━━━━━━━━━━━━━━━━━━━━━━━━━━━━━━━━━━━━━━\u001b[0m \u001b[32m211.5/211.5 MB\u001b[0m \u001b[31m4.8 MB/s\u001b[0m eta \u001b[36m0:00:00\u001b[0m\n",
            "\u001b[?25hDownloading nvidia_curand_cu12-10.3.5.147-py3-none-manylinux2014_x86_64.whl (56.3 MB)\n",
            "\u001b[2K   \u001b[90m━━━━━━━━━━━━━━━━━━━━━━━━━━━━━━━━━━━━━━━━\u001b[0m \u001b[32m56.3/56.3 MB\u001b[0m \u001b[31m12.8 MB/s\u001b[0m eta \u001b[36m0:00:00\u001b[0m\n",
            "\u001b[?25hDownloading nvidia_cusolver_cu12-11.6.1.9-py3-none-manylinux2014_x86_64.whl (127.9 MB)\n",
            "\u001b[2K   \u001b[90m━━━━━━━━━━━━━━━━━━━━━━━━━━━━━━━━━━━━━━━━\u001b[0m \u001b[32m127.9/127.9 MB\u001b[0m \u001b[31m7.7 MB/s\u001b[0m eta \u001b[36m0:00:00\u001b[0m\n",
            "\u001b[?25hDownloading nvidia_cusparse_cu12-12.3.1.170-py3-none-manylinux2014_x86_64.whl (207.5 MB)\n",
            "\u001b[2K   \u001b[90m━━━━━━━━━━━━━━━━━━━━━━━━━━━━━━━━━━━━━━━━\u001b[0m \u001b[32m207.5/207.5 MB\u001b[0m \u001b[31m5.5 MB/s\u001b[0m eta \u001b[36m0:00:00\u001b[0m\n",
            "\u001b[?25hDownloading nvidia_nvjitlink_cu12-12.4.127-py3-none-manylinux2014_x86_64.whl (21.1 MB)\n",
            "\u001b[2K   \u001b[90m━━━━━━━━━━━━━━━━━━━━━━━━━━━━━━━━━━━━━━━━\u001b[0m \u001b[32m21.1/21.1 MB\u001b[0m \u001b[31m58.3 MB/s\u001b[0m eta \u001b[36m0:00:00\u001b[0m\n",
            "\u001b[?25hInstalling collected packages: nvidia-nvjitlink-cu12, nvidia-curand-cu12, nvidia-cufft-cu12, nvidia-cuda-runtime-cu12, nvidia-cuda-nvrtc-cu12, nvidia-cuda-cupti-cu12, nvidia-cublas-cu12, nvidia-cusparse-cu12, nvidia-cudnn-cu12, nvidia-cusolver-cu12\n",
            "  Attempting uninstall: nvidia-nvjitlink-cu12\n",
            "    Found existing installation: nvidia-nvjitlink-cu12 12.5.82\n",
            "    Uninstalling nvidia-nvjitlink-cu12-12.5.82:\n",
            "      Successfully uninstalled nvidia-nvjitlink-cu12-12.5.82\n",
            "  Attempting uninstall: nvidia-curand-cu12\n",
            "    Found existing installation: nvidia-curand-cu12 10.3.6.82\n",
            "    Uninstalling nvidia-curand-cu12-10.3.6.82:\n",
            "      Successfully uninstalled nvidia-curand-cu12-10.3.6.82\n",
            "  Attempting uninstall: nvidia-cufft-cu12\n",
            "    Found existing installation: nvidia-cufft-cu12 11.2.3.61\n",
            "    Uninstalling nvidia-cufft-cu12-11.2.3.61:\n",
            "      Successfully uninstalled nvidia-cufft-cu12-11.2.3.61\n",
            "  Attempting uninstall: nvidia-cuda-runtime-cu12\n",
            "    Found existing installation: nvidia-cuda-runtime-cu12 12.5.82\n",
            "    Uninstalling nvidia-cuda-runtime-cu12-12.5.82:\n",
            "      Successfully uninstalled nvidia-cuda-runtime-cu12-12.5.82\n",
            "  Attempting uninstall: nvidia-cuda-nvrtc-cu12\n",
            "    Found existing installation: nvidia-cuda-nvrtc-cu12 12.5.82\n",
            "    Uninstalling nvidia-cuda-nvrtc-cu12-12.5.82:\n",
            "      Successfully uninstalled nvidia-cuda-nvrtc-cu12-12.5.82\n",
            "  Attempting uninstall: nvidia-cuda-cupti-cu12\n",
            "    Found existing installation: nvidia-cuda-cupti-cu12 12.5.82\n",
            "    Uninstalling nvidia-cuda-cupti-cu12-12.5.82:\n",
            "      Successfully uninstalled nvidia-cuda-cupti-cu12-12.5.82\n",
            "  Attempting uninstall: nvidia-cublas-cu12\n",
            "    Found existing installation: nvidia-cublas-cu12 12.5.3.2\n",
            "    Uninstalling nvidia-cublas-cu12-12.5.3.2:\n",
            "      Successfully uninstalled nvidia-cublas-cu12-12.5.3.2\n",
            "  Attempting uninstall: nvidia-cusparse-cu12\n",
            "    Found existing installation: nvidia-cusparse-cu12 12.5.1.3\n",
            "    Uninstalling nvidia-cusparse-cu12-12.5.1.3:\n",
            "      Successfully uninstalled nvidia-cusparse-cu12-12.5.1.3\n",
            "  Attempting uninstall: nvidia-cudnn-cu12\n",
            "    Found existing installation: nvidia-cudnn-cu12 9.3.0.75\n",
            "    Uninstalling nvidia-cudnn-cu12-9.3.0.75:\n",
            "      Successfully uninstalled nvidia-cudnn-cu12-9.3.0.75\n",
            "  Attempting uninstall: nvidia-cusolver-cu12\n",
            "    Found existing installation: nvidia-cusolver-cu12 11.6.3.83\n",
            "    Uninstalling nvidia-cusolver-cu12-11.6.3.83:\n",
            "      Successfully uninstalled nvidia-cusolver-cu12-11.6.3.83\n",
            "Successfully installed nvidia-cublas-cu12-12.4.5.8 nvidia-cuda-cupti-cu12-12.4.127 nvidia-cuda-nvrtc-cu12-12.4.127 nvidia-cuda-runtime-cu12-12.4.127 nvidia-cudnn-cu12-9.1.0.70 nvidia-cufft-cu12-11.2.1.3 nvidia-curand-cu12-10.3.5.147 nvidia-cusolver-cu12-11.6.1.9 nvidia-cusparse-cu12-12.3.1.170 nvidia-nvjitlink-cu12-12.4.127\n"
          ]
        }
      ]
    },
    {
      "cell_type": "code",
      "execution_count": 1,
      "metadata": {
        "id": "6XaDBBUGClvG"
      },
      "outputs": [],
      "source": [
        "import torch\n",
        "import torch.nn as nn\n",
        "import torch.optim as optim\n",
        "import torchvision\n",
        "import torchvision.transforms as transforms\n",
        "import matplotlib.pyplot as plt\n",
        "import math\n",
        "from torch.utils.data import DataLoader\n",
        "from torch.nn import Parameter\n",
        "\n",
        "\n",
        "# Define transformations\n",
        "def get_transforms(dataset_name):\n",
        "    if dataset_name == \"MNIST\":\n",
        "        return transforms.Compose([\n",
        "            transforms.Resize((32, 32)),  # Resize MNIST to 32x32 for consistency\n",
        "            transforms.ToTensor(),\n",
        "            transforms.Normalize((0.5,), (0.5,))\n",
        "        ])\n",
        "    elif dataset_name == \"CIFAR\":\n",
        "        return transforms.Compose([\n",
        "            transforms.ToTensor(),\n",
        "            transforms.Normalize((0.5, 0.5, 0.5), (0.5, 0.5, 0.5))\n",
        "        ])\n",
        "\n",
        "\n",
        "# Load dataset\n",
        "def load_dataset(dataset_name, batch_size=128):\n",
        "    transform = get_transforms(dataset_name)\n",
        "    dataset_class = torchvision.datasets.MNIST if dataset_name == \"MNIST\" else torchvision.datasets.CIFAR10\n",
        "\n",
        "    train_set = dataset_class(root='./data', train=True, transform=transform, download=True)\n",
        "    test_set = dataset_class(root='./data', train=False, transform=transform, download=True)\n",
        "\n",
        "    train_loader = DataLoader(train_set, batch_size=batch_size, shuffle=True)\n",
        "    test_loader = DataLoader(test_set, batch_size=batch_size, shuffle=False)\n",
        "\n",
        "    return train_loader, test_loader"
      ]
    },
    {
      "cell_type": "code",
      "source": [
        "\n",
        "\n",
        "# Define AdaFace Loss\n",
        "class AdaFace(nn.Module):\n",
        "    def __init__(self, embedding_size=512, classnum=10, m=0.4, h=0.333, s=64.0, t_alpha=1.0):\n",
        "        super(AdaFace, self).__init__()\n",
        "        self.kernel = Parameter(torch.Tensor(embedding_size, classnum))\n",
        "        self.kernel.data.uniform_(-1, 1).renorm_(2, 1, 1e-5).mul_(1e5)  # Normalize and scale\n",
        "\n",
        "        self.m, self.h, self.s = m, h, s\n",
        "        self.eps, self.t_alpha = 1e-3, t_alpha\n",
        "\n",
        "        self.register_buffer('batch_mean', torch.ones(1) * 20)\n",
        "        self.register_buffer('batch_std', torch.ones(1) * 100)\n",
        "\n",
        "    def forward(self, embeddings, norms, label):\n",
        "        kernel_norm = nn.functional.normalize(self.kernel, p=2, dim=0)\n",
        "        # Ensure cosine is 2D before scattering\n",
        "        cosine = torch.mm(embeddings, kernel_norm).clamp(-1 + self.eps, 1 - self.eps)\n",
        "        # If cosine is not 2D, reshape it:\n",
        "        if cosine.dim() < 2:\n",
        "            cosine = cosine.unsqueeze(0)\n",
        "        # If the cosine Tensor is already 2D, keep it as it was\n",
        "\n",
        "\n",
        "        safe_norms = torch.clip(norms, min=0.001, max=100).detach()\n",
        "\n",
        "        with torch.no_grad():\n",
        "            self.batch_mean = self.t_alpha * safe_norms.mean() + (1 - self.t_alpha) * self.batch_mean\n",
        "            self.batch_std = self.t_alpha * safe_norms.std() + (1 - self.t_alpha) * self.batch_std\n",
        "\n",
        "        margin_scaler = torch.clip(((safe_norms - self.batch_mean) / (self.batch_std + self.eps)) * self.h, -1, 1)\n",
        "\n",
        "        # Ensure label shape is compatible with cosine for scattering:\n",
        "        # Check if label needs unsqueezing for proper broadcasting\n",
        "        if label.dim() == 0:\n",
        "            label = label.unsqueeze(0)\n",
        "\n",
        "        m_arc = torch.zeros_like(cosine).scatter_(1, label.unsqueeze(1), self.m * margin_scaler.unsqueeze(1) * -1)\n",
        "\n",
        "        theta = cosine.acos()\n",
        "        cosine = torch.clip(theta + m_arc, min=self.eps, max=math.pi - self.eps).cos()\n",
        "\n",
        "        m_cos = torch.zeros_like(cosine).scatter_(1, label.unsqueeze(1), self.m + self.m * margin_scaler.unsqueeze(1))\n",
        "        cosine -= m_cos\n",
        "\n",
        "        return cosine * self.s\n",
        "\n",
        "\n"
      ],
      "metadata": {
        "id": "iZi6_TkuDxMz"
      },
      "execution_count": 14,
      "outputs": []
    },
    {
      "cell_type": "code",
      "source": [
        "\n",
        "\n",
        "# Define the CNN model\n",
        "class SimpleCNN(nn.Module):\n",
        "    def __init__(self, embedding_size=512, input_channel=1):\n",
        "        super(SimpleCNN, self).__init__()\n",
        "        # Change the first conv layer's input channel to match the dataset\n",
        "        self.conv = nn.Sequential(\n",
        "            nn.Conv2d(input_channel, 32, 3, 1, 1), nn.ReLU(), nn.MaxPool2d(2, 2),\n",
        "            nn.Conv2d(32, 64, 3, 1, 1), nn.ReLU(), nn.MaxPool2d(2, 2)\n",
        "        )\n",
        "        self.fc = nn.Sequential(\n",
        "            nn.Linear(64 * 8 * 8, 512), nn.ReLU(),\n",
        "            nn.Linear(512, embedding_size)\n",
        "        )\n",
        "\n",
        "    def forward(self, x):\n",
        "        x = self.conv(x).view(x.size(0), -1)\n",
        "        embeddings = self.fc(x)\n",
        "        norms = torch.norm(embeddings, p=2, dim=1, keepdim=True)\n",
        "        return embeddings / (norms + 1e-5), norms.squeeze()\n",
        "\n"
      ],
      "metadata": {
        "id": "W4Em6G7MDt8t"
      },
      "execution_count": 12,
      "outputs": []
    },
    {
      "cell_type": "code",
      "source": [
        "# Training function\n",
        "def train_model(model, criterion, optimizer, train_loader, epochs=10):\n",
        "    model.train()\n",
        "    train_losses = []\n",
        "\n",
        "    for epoch in range(epochs):\n",
        "        running_loss = 0.0\n",
        "        for images, labels in train_loader:\n",
        "            images, labels = images.to(device), labels.to(device)\n",
        "\n",
        "            optimizer.zero_grad()\n",
        "            embeddings, norms = model(images)\n",
        "            logits = criterion(embeddings, norms, labels)\n",
        "            loss = nn.CrossEntropyLoss()(logits, labels)\n",
        "\n",
        "            loss.backward()\n",
        "            optimizer.step()\n",
        "            running_loss += loss.item()\n",
        "\n",
        "        avg_loss = running_loss / len(train_loader)\n",
        "        train_losses.append(avg_loss)\n",
        "        print(f\"Epoch [{epoch+1}/{epochs}], Loss: {avg_loss:.4f}\")\n",
        "\n",
        "    return train_losses\n",
        "\n"
      ],
      "metadata": {
        "id": "--Nq53gvDqyi"
      },
      "execution_count": 3,
      "outputs": []
    },
    {
      "cell_type": "code",
      "source": [
        "# Evaluation function\n",
        "def evaluate_model(model, criterion, test_loader):\n",
        "    model.eval()\n",
        "    correct, total = 0, 0\n",
        "\n",
        "    with torch.no_grad():\n",
        "        for images, labels in test_loader:\n",
        "            images, labels = images.to(device), labels.to(device)\n",
        "            embeddings, norms = model(images)\n",
        "            logits = criterion(embeddings, norms, labels)\n",
        "\n",
        "            correct += (logits.argmax(1) == labels).sum().item()\n",
        "            total += labels.size(0)\n",
        "\n",
        "    return 100 * correct / total\n",
        "\n",
        "\n",
        "# Main execution\n",
        "device = torch.device(\"cuda\" if torch.cuda.is_available() else \"cpu\")\n",
        "\n",
        "datasets = [\"MNIST\", \"CIFAR\"]\n",
        "results = {}"
      ],
      "metadata": {
        "id": "YD7LPOLkDoFL"
      },
      "execution_count": 4,
      "outputs": []
    },
    {
      "cell_type": "code",
      "source": [
        "\n",
        "for dataset in datasets:\n",
        "    print(f\"\\nTraining on {dataset}:\")\n",
        "    train_loader, test_loader = load_dataset(dataset)\n",
        "\n",
        "    model = SimpleCNN(embedding_size=512, input_channel = 1 if dataset == \"MNIST\" else 3).to(device)\n",
        "    criterion = AdaFace(embedding_size=512, classnum=10).to(device)\n",
        "    optimizer = optim.Adam(model.parameters(), lr=0.001)\n",
        "\n",
        "    losses = train_model(model, criterion, optimizer, train_loader, epochs=10)\n",
        "    accuracy = evaluate_model(model, criterion, test_loader)\n",
        "\n",
        "    results[dataset] = {\"losses\": losses, \"accuracy\": accuracy}\n",
        "    print(f\"{dataset} Test Accuracy: {accuracy:.2f}%\")\n"
      ],
      "metadata": {
        "colab": {
          "base_uri": "https://localhost:8080/"
        },
        "id": "a-R30Y1jDlRx",
        "outputId": "da49a87e-4a5d-46cf-f282-5d5f049ff32b"
      },
      "execution_count": 15,
      "outputs": [
        {
          "output_type": "stream",
          "name": "stdout",
          "text": [
            "\n",
            "Training on MNIST:\n",
            "Epoch [1/10], Loss: 4.1170\n",
            "Epoch [2/10], Loss: 0.7591\n",
            "Epoch [3/10], Loss: 0.4916\n",
            "Epoch [4/10], Loss: 0.3453\n",
            "Epoch [5/10], Loss: 0.2651\n",
            "Epoch [6/10], Loss: 0.2195\n",
            "Epoch [7/10], Loss: 0.1635\n",
            "Epoch [8/10], Loss: 0.1671\n",
            "Epoch [9/10], Loss: 0.1415\n",
            "Epoch [10/10], Loss: 0.1205\n",
            "MNIST Test Accuracy: 98.16%\n",
            "\n",
            "Training on CIFAR:\n"
          ]
        },
        {
          "output_type": "stream",
          "name": "stderr",
          "text": [
            "100%|██████████| 170M/170M [00:03<00:00, 48.2MB/s]\n"
          ]
        },
        {
          "output_type": "stream",
          "name": "stdout",
          "text": [
            "Epoch [1/10], Loss: 24.2393\n",
            "Epoch [2/10], Loss: 18.3928\n",
            "Epoch [3/10], Loss: 15.1568\n",
            "Epoch [4/10], Loss: 12.4571\n",
            "Epoch [5/10], Loss: 9.9748\n",
            "Epoch [6/10], Loss: 7.6627\n",
            "Epoch [7/10], Loss: 5.7300\n",
            "Epoch [8/10], Loss: 4.1664\n",
            "Epoch [9/10], Loss: 3.1610\n",
            "Epoch [10/10], Loss: 2.3962\n",
            "CIFAR Test Accuracy: 56.02%\n"
          ]
        }
      ]
    },
    {
      "cell_type": "code",
      "source": [
        "\n",
        "# Plot loss curves\n",
        "plt.figure(figsize=(10, 5))\n",
        "for dataset in datasets:\n",
        "    plt.plot(results[dataset][\"losses\"], label=f\"{dataset} Loss\")\n",
        "plt.xlabel(\"Epochs\")\n",
        "plt.ylabel(\"Loss\")\n",
        "plt.title(\"Training Loss Comparison: MNIST vs CIFAR-10\")\n",
        "plt.legend()\n",
        "plt.show()"
      ],
      "metadata": {
        "id": "Yng5AbhZDSxN",
        "colab": {
          "base_uri": "https://localhost:8080/",
          "height": 487
        },
        "outputId": "93f514ae-8c3d-42c0-f6b2-80728e887ad0"
      },
      "execution_count": 16,
      "outputs": [
        {
          "output_type": "display_data",
          "data": {
            "text/plain": [
              "<Figure size 1000x500 with 1 Axes>"
            ],
            "image/png": "[encoded data removed]"
          },
          "metadata": {}
        }
      ]
    },
    {
      "cell_type": "code",
      "source": [
        "\n",
        "def test_model_cifar(model, loss_fn, test_loader):\n",
        "    model.eval()  # Set the model to evaluation mode\n",
        "    correct, total, test_loss = 0, 0, 0.0\n",
        "\n",
        "    with torch.no_grad():  # Disable gradient calculation for testing\n",
        "        for images, labels in test_loader:\n",
        "            images, labels = images.to(device), labels.to(device)\n",
        "\n",
        "            # Forward pass\n",
        "            embeddings, norms = model(images)\n",
        "\n",
        "            # Prediction and loss computation\n",
        "           # predicted = outputs.argmax(dim=1)\n",
        "\n",
        "            loss = loss_fn(embeddings, norms, labels)  # Get only the loss value\n",
        "            test_loss += loss.mean().item()\n",
        "\n",
        "    avg_test_loss = test_loss / len(test_loader)\n",
        "\n",
        "    print(f\"Test Loss: {avg_test_loss:.4f}\")\n",
        "\n",
        "    return avg_test_loss\n",
        "train_loader, test_loader = load_dataset(\"CIFAR\")\n",
        "\n",
        "model_cifar = SimpleCNN(embedding_size=512, input_channel = 3).to(device)\n",
        "criterion = AdaFace(embedding_size=512, classnum=10).to(device)\n",
        "optimizer = optim.Adam(model.parameters(), lr=0.001)\n",
        "test_model_cifar(model_cifar, criterion, test_loader)\n"
      ],
      "metadata": {
        "colab": {
          "base_uri": "https://localhost:8080/"
        },
        "id": "z5XTI09cph2b",
        "outputId": "d9f9f7cc-6931-43e3-9e42-99ed07c251f9"
      },
      "execution_count": 21,
      "outputs": [
        {
          "output_type": "stream",
          "name": "stdout",
          "text": [
            "Test Loss: -3.0126\n"
          ]
        },
        {
          "output_type": "execute_result",
          "data": {
            "text/plain": [
              "-3.012614745128004"
            ]
          },
          "metadata": {},
          "execution_count": 21
        }
      ]
    }
  ]
}